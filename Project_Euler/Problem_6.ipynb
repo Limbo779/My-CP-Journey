{
 "cells": [
  {
   "cell_type": "markdown",
   "id": "7c54e863",
   "metadata": {},
   "source": [
    "You don't need to code to solve this problem just a calculator\n",
    ", use these as reference\n",
    "\n",
    "1.)[Sum of Square of Integer](https://en.wikipedia.org/wiki/Square_pyramidal_number)\n",
    "2.)[Sum of Integers](https://en.wikipedia.org/wiki/1_%2B_2_%2B_3_%2B_4_%2B_%E2%8B%AF)\n"
   ]
  }
 ],
 "metadata": {
  "language_info": {
   "name": "python"
  }
 },
 "nbformat": 4,
 "nbformat_minor": 5
}
