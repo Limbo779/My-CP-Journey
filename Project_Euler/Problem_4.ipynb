{
 "cells": [
  {
   "cell_type": "code",
   "execution_count": 84,
   "id": "153e13dc",
   "metadata": {},
   "outputs": [],
   "source": [
    "import numpy as np\n",
    "\n",
    "# we will use numpy for faster calculation"
   ]
  },
  {
   "cell_type": "code",
   "execution_count": null,
   "id": "20f10ac2",
   "metadata": {},
   "outputs": [],
   "source": [
    "# this function will be used for checking whether a number is palindrome or not\n",
    "def is_pali(x):\n",
    "    return True if x[0]==x[5] and x[1]==x[4] and x[2]==x[3] else False"
   ]
  },
  {
   "cell_type": "code",
   "execution_count": null,
   "id": "3ae031ef",
   "metadata": {},
   "outputs": [
    {
     "name": "stdout",
     "output_type": "stream",
     "text": [
      "(1, 360)\n",
      "(32, 1)\n"
     ]
    }
   ],
   "source": [
    "A=np.array([[i*11] for i in range(10,90+1) if not (i%2==0 or i%5==0)])\n",
    "Q=np.array([[i] for i in range(100,999+1) if not (i%2==0 or i%5==0)])\n",
    "QT=np.transpose(B)\n",
    "\n",
    "print(QT.shape)\n",
    "print(A.shape)\n",
    "\n",
    "Search_Space=((np.matmul(A,QT)).flatten())\n"
   ]
  },
  {
   "cell_type": "markdown",
   "id": "9cf1fa54",
   "metadata": {},
   "source": [
    "Due to the symmetry of palindrome number we know the fact that palindrome number is divisible by 11\n",
    "let the number we want be n\n",
    "\n",
    "thus n = pxq where p=11xa\n",
    "\n",
    "but inorder for p to be a 3 digit number, a must be from 10 to 90\n",
    "now we want n to maximum as possible so we can assume leading digit of n is 9 so does the last digit\n",
    "\n",
    "this shows that 2 and 5 is not present in prime factor of n \n",
    "therefore we have 32 possible number for a and we have 360 possible number for q .\n",
    "\n",
    "so we need to search 11520 possible number for our n which can be done by a simple loop and we can get all these possibility from matrix multiplication using numpy\n"
   ]
  },
  {
   "cell_type": "code",
   "execution_count": 86,
   "id": "0e193772",
   "metadata": {},
   "outputs": [],
   "source": [
    "l=[]\n",
    "for i in (np.flip(Search_Space)):\n",
    "    if len(str(i))==6 :\n",
    "        if is_pali(str(i)):\n",
    "            l.append(i)\n",
    "        else :\n",
    "            continue\n",
    "    else:\n",
    "        continue"
   ]
  },
  {
   "cell_type": "code",
   "execution_count": 88,
   "id": "5eefda85",
   "metadata": {},
   "outputs": [
    {
     "data": {
      "text/plain": [
       "np.int64(906609)"
      ]
     },
     "execution_count": 88,
     "metadata": {},
     "output_type": "execute_result"
    }
   ],
   "source": [
    "max(l) # here l contain all the possible palindrome number"
   ]
  }
 ],
 "metadata": {
  "kernelspec": {
   "display_name": "My VEnv Kernel",
   "language": "python",
   "name": "my_venv_name"
  },
  "language_info": {
   "codemirror_mode": {
    "name": "ipython",
    "version": 3
   },
   "file_extension": ".py",
   "mimetype": "text/x-python",
   "name": "python",
   "nbconvert_exporter": "python",
   "pygments_lexer": "ipython3",
   "version": "3.13.5"
  }
 },
 "nbformat": 4,
 "nbformat_minor": 5
}
